{
 "cells": [
  {
   "cell_type": "code",
   "execution_count": 4,
   "metadata": {
    "collapsed": true
   },
   "outputs": [],
   "source": [
    "import tensorflow as tf\n",
    "from tensorflow.keras.models import Sequential\n",
    "from tensorflow.keras.layers import Dense\n",
    "from tensorflow.keras.layers import LSTM\n",
    "import numpy as np\n",
    "import pandas as pd"
   ]
  },
  {
   "cell_type": "code",
   "execution_count": 1,
   "outputs": [
    {
     "name": "stdout",
     "output_type": "stream",
     "text": [
      "Requirement already satisfied: keras in c:\\users\\eq220\\.conda\\envs\\finalproject\\lib\\site-packages (2.13.1)\n"
     ]
    }
   ],
   "source": [
    "!pip install keras"
   ],
   "metadata": {
    "collapsed": false
   }
  },
  {
   "cell_type": "code",
   "execution_count": 5,
   "outputs": [
    {
     "data": {
      "text/plain": "         Date       Interval_Range\n0  2013-07-01  14.329286-14.723929\n1  2013-07-02  14.623929-15.058214\n2  2013-07-03  14.908929-15.106429\n3  2013-07-05    14.833929-15.1175\n4  2013-07-08  14.666071-15.035714",
      "text/html": "<div>\n<style scoped>\n    .dataframe tbody tr th:only-of-type {\n        vertical-align: middle;\n    }\n\n    .dataframe tbody tr th {\n        vertical-align: top;\n    }\n\n    .dataframe thead th {\n        text-align: right;\n    }\n</style>\n<table border=\"1\" class=\"dataframe\">\n  <thead>\n    <tr style=\"text-align: right;\">\n      <th></th>\n      <th>Date</th>\n      <th>Interval_Range</th>\n    </tr>\n  </thead>\n  <tbody>\n    <tr>\n      <th>0</th>\n      <td>2013-07-01</td>\n      <td>14.329286-14.723929</td>\n    </tr>\n    <tr>\n      <th>1</th>\n      <td>2013-07-02</td>\n      <td>14.623929-15.058214</td>\n    </tr>\n    <tr>\n      <th>2</th>\n      <td>2013-07-03</td>\n      <td>14.908929-15.106429</td>\n    </tr>\n    <tr>\n      <th>3</th>\n      <td>2013-07-05</td>\n      <td>14.833929-15.1175</td>\n    </tr>\n    <tr>\n      <th>4</th>\n      <td>2013-07-08</td>\n      <td>14.666071-15.035714</td>\n    </tr>\n  </tbody>\n</table>\n</div>"
     },
     "execution_count": 5,
     "metadata": {},
     "output_type": "execute_result"
    }
   ],
   "source": [
    "df = pd.read_csv(\"Price_Interval.csv\")\n",
    "# Extract 'Date' and 'Interval Range' columns\n",
    "df_extracted = df[['Date', 'Interval_Range']]\n",
    "df_extracted.head()"
   ],
   "metadata": {
    "collapsed": false
   }
  },
  {
   "cell_type": "code",
   "execution_count": 6,
   "outputs": [
    {
     "name": "stderr",
     "output_type": "stream",
     "text": [
      "C:\\Users\\eq220\\AppData\\Local\\Temp\\ipykernel_18548\\2003912284.py:1: SettingWithCopyWarning: \n",
      "A value is trying to be set on a copy of a slice from a DataFrame.\n",
      "Try using .loc[row_indexer,col_indexer] = value instead\n",
      "\n",
      "See the caveats in the documentation: https://pandas.pydata.org/pandas-docs/stable/user_guide/indexing.html#returning-a-view-versus-a-copy\n",
      "  df_extracted[['Low', 'High']] = df_extracted['Interval_Range'].str.split('-', expand=True)\n",
      "C:\\Users\\eq220\\AppData\\Local\\Temp\\ipykernel_18548\\2003912284.py:1: SettingWithCopyWarning: \n",
      "A value is trying to be set on a copy of a slice from a DataFrame.\n",
      "Try using .loc[row_indexer,col_indexer] = value instead\n",
      "\n",
      "See the caveats in the documentation: https://pandas.pydata.org/pandas-docs/stable/user_guide/indexing.html#returning-a-view-versus-a-copy\n",
      "  df_extracted[['Low', 'High']] = df_extracted['Interval_Range'].str.split('-', expand=True)\n",
      "C:\\Users\\eq220\\AppData\\Local\\Temp\\ipykernel_18548\\2003912284.py:4: SettingWithCopyWarning: \n",
      "A value is trying to be set on a copy of a slice from a DataFrame.\n",
      "Try using .loc[row_indexer,col_indexer] = value instead\n",
      "\n",
      "See the caveats in the documentation: https://pandas.pydata.org/pandas-docs/stable/user_guide/indexing.html#returning-a-view-versus-a-copy\n",
      "  df_extracted['Low'] = pd.to_numeric(df_extracted['Low'])\n",
      "C:\\Users\\eq220\\AppData\\Local\\Temp\\ipykernel_18548\\2003912284.py:5: SettingWithCopyWarning: \n",
      "A value is trying to be set on a copy of a slice from a DataFrame.\n",
      "Try using .loc[row_indexer,col_indexer] = value instead\n",
      "\n",
      "See the caveats in the documentation: https://pandas.pydata.org/pandas-docs/stable/user_guide/indexing.html#returning-a-view-versus-a-copy\n",
      "  df_extracted['High'] = pd.to_numeric(df_extracted['High'])\n",
      "C:\\Users\\eq220\\AppData\\Local\\Temp\\ipykernel_18548\\2003912284.py:6: SettingWithCopyWarning: \n",
      "A value is trying to be set on a copy of a slice from a DataFrame.\n",
      "Try using .loc[row_indexer,col_indexer] = value instead\n",
      "\n",
      "See the caveats in the documentation: https://pandas.pydata.org/pandas-docs/stable/user_guide/indexing.html#returning-a-view-versus-a-copy\n",
      "  df_extracted['Mid'] = (df_extracted['Low'] + df_extracted['High']) / 2\n"
     ]
    },
    {
     "data": {
      "text/plain": "         Date        Low       High        Mid\n0  2013-07-01  14.329286  14.723929  14.526608\n1  2013-07-02  14.623929  15.058214  14.841071\n2  2013-07-03  14.908929  15.106429  15.007679\n3  2013-07-05  14.833929  15.117500  14.975714\n4  2013-07-08  14.666071  15.035714  14.850893",
      "text/html": "<div>\n<style scoped>\n    .dataframe tbody tr th:only-of-type {\n        vertical-align: middle;\n    }\n\n    .dataframe tbody tr th {\n        vertical-align: top;\n    }\n\n    .dataframe thead th {\n        text-align: right;\n    }\n</style>\n<table border=\"1\" class=\"dataframe\">\n  <thead>\n    <tr style=\"text-align: right;\">\n      <th></th>\n      <th>Date</th>\n      <th>Low</th>\n      <th>High</th>\n      <th>Mid</th>\n    </tr>\n  </thead>\n  <tbody>\n    <tr>\n      <th>0</th>\n      <td>2013-07-01</td>\n      <td>14.329286</td>\n      <td>14.723929</td>\n      <td>14.526608</td>\n    </tr>\n    <tr>\n      <th>1</th>\n      <td>2013-07-02</td>\n      <td>14.623929</td>\n      <td>15.058214</td>\n      <td>14.841071</td>\n    </tr>\n    <tr>\n      <th>2</th>\n      <td>2013-07-03</td>\n      <td>14.908929</td>\n      <td>15.106429</td>\n      <td>15.007679</td>\n    </tr>\n    <tr>\n      <th>3</th>\n      <td>2013-07-05</td>\n      <td>14.833929</td>\n      <td>15.117500</td>\n      <td>14.975714</td>\n    </tr>\n    <tr>\n      <th>4</th>\n      <td>2013-07-08</td>\n      <td>14.666071</td>\n      <td>15.035714</td>\n      <td>14.850893</td>\n    </tr>\n  </tbody>\n</table>\n</div>"
     },
     "execution_count": 6,
     "metadata": {},
     "output_type": "execute_result"
    }
   ],
   "source": [
    "df_extracted[['Low', 'High']] = df_extracted['Interval_Range'].str.split('-', expand=True)\n",
    "\n",
    "# Convert 'Low' and 'High' to numeric, and calculate the 'Mid' from 'Low' and 'High'.\n",
    "df_extracted['Low'] = pd.to_numeric(df_extracted['Low'])\n",
    "df_extracted['High'] = pd.to_numeric(df_extracted['High'])\n",
    "df_extracted['Mid'] = (df_extracted['Low'] + df_extracted['High']) / 2\n",
    "\n",
    "df_extracted = df_extracted.drop(columns=['Interval_Range'])\n",
    "df_extracted.head()"
   ],
   "metadata": {
    "collapsed": false
   }
  },
  {
   "cell_type": "code",
   "execution_count": 7,
   "outputs": [],
   "source": [
    "from sklearn.preprocessing import MinMaxScaler\n",
    "scaler=MinMaxScaler(feature_range=(0,1))\n",
    "data = df_extracted\n",
    "\n",
    "scaled_Low=scaler.fit_transform(np.array(data['Low']).reshape(-1,1))"
   ],
   "metadata": {
    "collapsed": false
   }
  },
  {
   "cell_type": "code",
   "execution_count": 8,
   "outputs": [],
   "source": [
    "##splitting dataset into train and test split\n",
    "def train_test_split_portion(data, train_portion):\n",
    "    training_size =int(len(data) * train_portion)\n",
    "    test_size =len(data)-training_size\n",
    "    train_data,test_data = data[0:training_size,:], data[training_size:len(data),:1]\n",
    "    return train_data, test_data"
   ],
   "metadata": {
    "collapsed": false
   }
  },
  {
   "cell_type": "code",
   "execution_count": 9,
   "outputs": [],
   "source": [
    "# convert an array of values into a dataset matrix\n",
    "def create_dataset(dataset, time_step=1):\n",
    "    dataX, dataY = [], []\n",
    "    for i in range(len(dataset)-time_step-1):\n",
    "        a = dataset[i:(i+time_step), 0]   ###i=0, 0,1,2,3-----99   100\n",
    "        dataX.append(a)\n",
    "        dataY.append(dataset[i + time_step, 0])\n",
    "    return np.array(dataX), np.array(dataY)"
   ],
   "metadata": {
    "collapsed": false
   }
  },
  {
   "cell_type": "code",
   "execution_count": 10,
   "outputs": [],
   "source": [
    "from matplotlib import pyplot as plt\n",
    "\n",
    "\n",
    "### Plotting\n",
    "def Ploting_Stacked_LSTMprediction (original_data, scaled_data, train_predict, test_predict, look_back):\n",
    "    # shift train predictions for plotting\n",
    "    trainPredictPlot = np.empty_like(scaled_data)\n",
    "    trainPredictPlot[:, :] = np.nan\n",
    "    trainPredictPlot[look_back:len(train_predict)+look_back, :] = train_predict\n",
    "\n",
    "    # shift test predictions for plotting\n",
    "    testPredictPlot = np.empty_like(scaled_data)\n",
    "    testPredictPlot[:, :] = np.nan\n",
    "    testPredictPlot[len(train_predict)+(look_back*2)+1:len(scaled_data)-1, :] = test_predict\n",
    "\n",
    "    trainPredictPlot = pd.DataFrame(trainPredictPlot, index = original_data.index)\n",
    "    testPredictPlot = pd.DataFrame(testPredictPlot, index = original_data.index)\n",
    "    real = pd.DataFrame(scaler.inverse_transform(scaled_data), index = original_data.index)\n",
    "    # plot baseline and predictions\n",
    "\n",
    "    plt.figure(figsize=(18,10))\n",
    "    plt.plot(real)\n",
    "    plt.plot(trainPredictPlot, label=\"Train Predict\")\n",
    "    plt.plot(testPredictPlot, label=\"Test Predict\")\n",
    "    plt.legend(loc = 'best')\n",
    "    plt.show()"
   ],
   "metadata": {
    "collapsed": false
   }
  },
  {
   "cell_type": "code",
   "execution_count": 11,
   "outputs": [],
   "source": [
    "def plot_Stacked_LSTM_prediction_30days (original_data, scaled_data, test_data, look_back):\n",
    "    x_input=test_data[len(test_data)-(look_back+30):len(test_data)-30].reshape(1,-1)  # leave 130 day left\n",
    "    temp_input=list(x_input)\n",
    "    temp_input=temp_input[0].tolist()\n",
    "\n",
    "    lst_output=[]\n",
    "    n_steps=look_back\n",
    "    i=0\n",
    "    while(i<30):\n",
    "\n",
    "        if(len(temp_input)>look_back):\n",
    "            x_input=np.array(temp_input[1:])\n",
    "            #print(\"{} day input {}\".format(i,x_input))\n",
    "            x_input=x_input.reshape(1,-1)\n",
    "            x_input = x_input.reshape((1, n_steps, 1))\n",
    "\n",
    "            yhat = model.predict(x_input, verbose=0)\n",
    "            #print(\"{} day output {}\".format(i,yhat))\n",
    "            temp_input.extend(yhat[0].tolist())\n",
    "            temp_input=temp_input[1:]\n",
    "\n",
    "            lst_output.extend(yhat.tolist())\n",
    "            i=i+1\n",
    "        else:\n",
    "            x_input = x_input.reshape((1, n_steps,1))\n",
    "            yhat = model.predict(x_input, verbose=0)\n",
    "            #print(yhat[0])\n",
    "            temp_input.extend(yhat[0].tolist())\n",
    "            #print(len(temp_input))\n",
    "            lst_output.extend(yhat.tolist())\n",
    "            i=i+1\n",
    "\n",
    "    df1 = pd.DataFrame(scaler.inverse_transform(scaled_data), index = original_data.index)\n",
    "    df2 = df1[len(df1)-30:]\n",
    "    df3 = pd.DataFrame(scaler.inverse_transform(lst_output), index = original_data[len(original_data)-30:].index)\n",
    "    plt.figure(figsize=(20,10))\n",
    "    plt.plot(df1[:len(df1)-30])\n",
    "    plt.plot(df2)\n",
    "    plt.plot(df3, label = 'Prediction')\n",
    "    plt.legend(loc = 'best')\n",
    "    #testscore = math.sqrt(mean_squared_error(df2,df3))\n",
    "\n",
    "    #return testscore"
   ],
   "metadata": {
    "collapsed": false
   }
  },
  {
   "cell_type": "code",
   "execution_count": null,
   "outputs": [],
   "source": [],
   "metadata": {
    "collapsed": false
   }
  }
 ],
 "metadata": {
  "kernelspec": {
   "display_name": "Python 3",
   "language": "python",
   "name": "python3"
  },
  "language_info": {
   "codemirror_mode": {
    "name": "ipython",
    "version": 2
   },
   "file_extension": ".py",
   "mimetype": "text/x-python",
   "name": "python",
   "nbconvert_exporter": "python",
   "pygments_lexer": "ipython2",
   "version": "2.7.6"
  }
 },
 "nbformat": 4,
 "nbformat_minor": 0
}
